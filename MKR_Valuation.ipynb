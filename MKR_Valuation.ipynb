{
  "nbformat": 4,
  "nbformat_minor": 0,
  "metadata": {
    "kernelspec": {
      "display_name": "Python 3",
      "language": "python",
      "name": "python3"
    },
    "language_info": {
      "codemirror_mode": {
        "name": "ipython",
        "version": 3
      },
      "file_extension": ".py",
      "mimetype": "text/x-python",
      "name": "python",
      "nbconvert_exporter": "python",
      "pygments_lexer": "ipython3",
      "version": "3.8.5"
    },
    "colab": {
      "name": "MKR Valuation.ipynb",
      "provenance": [],
      "collapsed_sections": []
    }
  },
  "cells": [
    {
      "cell_type": "code",
      "metadata": {
        "id": "v0PwzfspgCzS"
      },
      "source": [
        "#pip install SALib"
      ],
      "execution_count": null,
      "outputs": []
    },
    {
      "cell_type": "code",
      "metadata": {
        "id": "bpjInPLnS_8s"
      },
      "source": [
        "import requests\n",
        "#import pprint\n",
        "import datetime as dt\n",
        "import pandas as pd\n",
        "import numpy as np\n",
        "import matplotlib.pyplot as plt"
      ],
      "execution_count": 1,
      "outputs": []
    },
    {
      "cell_type": "markdown",
      "metadata": {
        "id": "O4chzEHgS_8y"
      },
      "source": [
        "# TVL"
      ]
    },
    {
      "cell_type": "code",
      "metadata": {
        "id": "QLussAIsS_8z"
      },
      "source": [
        "url = 'https://api.debank.com/project/tvl_chart?id=makerdao' #DeBank MakerDAO API\n",
        "r = requests.get(url)\n",
        "data = r.json()\n",
        "data = data['data']\n",
        "date = []\n",
        "tvl = []\n",
        "for i in range(len(data)):\n",
        "    date.append(dt.datetime.strptime (data[i]['date_at'], '%Y-%m-%d'))\n",
        "    tvl.append(data[i]['locked_usd_value'])\n",
        "    \n",
        "maker_tvl = pd.DataFrame (data = tvl, index = date, columns=[\"Maker\"])"
      ],
      "execution_count": 2,
      "outputs": []
    },
    {
      "cell_type": "code",
      "metadata": {
        "colab": {
          "base_uri": "https://localhost:8080/",
          "height": 311
        },
        "id": "YabwB73nS_8z",
        "outputId": "fdf8e1a5-7750-4d5f-8c23-1be44d590d45"
      },
      "source": [
        "maker_tvl.plot(title = \"MakerDAO TVL\")"
      ],
      "execution_count": 3,
      "outputs": [
        {
          "output_type": "execute_result",
          "data": {
            "text/plain": [
              "<matplotlib.axes._subplots.AxesSubplot at 0x7fcdecc24198>"
            ]
          },
          "metadata": {
            "tags": []
          },
          "execution_count": 3
        },
        {
          "output_type": "display_data",
          "data": {
            "image/png": "[encoded data removed]",
            "text/plain": [
              "<Figure size 432x288 with 1 Axes>"
            ]
          },
          "metadata": {
            "tags": [],
            "needs_background": "light"
          }
        }
      ]
    },
    {
      "cell_type": "code",
      "metadata": {
        "id": "lnLyrBY9S_80"
      },
      "source": [
        "tvl_2017 = int((maker_tvl[maker_tvl.index == dt.datetime(2017, 12, 31)]).iloc[0])\n",
        "tvl_2018 = int((maker_tvl[maker_tvl.index == dt.datetime(2018, 12, 31)]).iloc[0])\n",
        "tvl_2019 = int((maker_tvl[maker_tvl.index == dt.datetime(2019, 12, 31)]).iloc[0])\n",
        "tvl_2020 = int((maker_tvl[maker_tvl.index == dt.datetime(2020, 12, 31)]).iloc[0])\n",
        "tvl_today = int(maker_tvl.iloc[-1])\n",
        "tvl_year_ago = int(maker_tvl.iloc[-365])"
      ],
      "execution_count": 23,
      "outputs": []
    },
    {
      "cell_type": "code",
      "metadata": {
        "colab": {
          "base_uri": "https://localhost:8080/"
        },
        "id": "aK7O2IYNS_80",
        "outputId": "2c996a6f-16e6-4d30-ca3f-dddcb5976187"
      },
      "source": [
        "ggr_2018_monthly = ((tvl_2018 / tvl_2017)**(1/12))-1\n",
        "ggr_2019_monthly = ((tvl_2019 / tvl_2018)**(1/12))-1\n",
        "ggr_2020_monthly = ((tvl_2020 / tvl_2019)**(1/12))-1\n",
        "ggr_recent = ((tvl_today / tvl_year_ago)**(1/12))-1\n",
        "\n",
        "ggr_2018_monthly, ggr_2019_monthly, ggr_2020_monthly, ggr_recent"
      ],
      "execution_count": 28,
      "outputs": [
        {
          "output_type": "execute_result",
          "data": {
            "text/plain": [
              "(0.2334251097659763,\n",
              " 0.04733058793604239,\n",
              " 0.16652129769768753,\n",
              " 0.19757525148813926)"
            ]
          },
          "metadata": {
            "tags": []
          },
          "execution_count": 28
        }
      ]
    },
    {
      "cell_type": "code",
      "metadata": {
        "colab": {
          "base_uri": "https://localhost:8080/",
          "height": 305
        },
        "id": "5YqHZ3whS_81",
        "outputId": "e0979862-9f5d-4a74-97f6-9a2d717a2d0c"
      },
      "source": [
        "maker_monthly_mean_tvl = maker_tvl.groupby(pd.Grouper(freq=\"M\")).mean()\n",
        "maker_monthly_mean_tvl.plot()"
      ],
      "execution_count": 6,
      "outputs": [
        {
          "output_type": "execute_result",
          "data": {
            "text/plain": [
              "<matplotlib.axes._subplots.AxesSubplot at 0x7fcdeb3ec208>"
            ]
          },
          "metadata": {
            "tags": []
          },
          "execution_count": 6
        },
        {
          "output_type": "display_data",
          "data": {
            "image/png": "[encoded data removed]",
            "text/plain": [
              "<Figure size 432x288 with 1 Axes>"
            ]
          },
          "metadata": {
            "tags": [],
            "needs_background": "light"
          }
        }
      ]
    },
    {
      "cell_type": "markdown",
      "metadata": {
        "id": "TomIuBb1S_81"
      },
      "source": [
        "# Forecast"
      ]
    },
    {
      "cell_type": "code",
      "metadata": {
        "id": "Z75HADI6S_81"
      },
      "source": [
        "geometric_growth_rate = ggr_recent\n",
        "forecast_length = 48 #months\n",
        "stability_fee_annual = 0.085 #https://mkr.tools/governance/stabilityfee\n",
        "stability_fee_monthly = stability_fee_annual / 12\n",
        "discount_rate = 0.4\n",
        "monthly_discount = 0.4/12\n",
        "terminal_growth = 0.1\n",
        "terminal_growth_monthly = terminal_growth / 12\n",
        "MKR_holders_revenue_share = 1\n",
        "Total_MKR = np.ones(48)*1000000 #assuming that revenue is shared between 1M MKR holders at each point\n",
        "LTV = 0.4"
      ],
      "execution_count": 30,
      "outputs": []
    },
    {
      "cell_type": "markdown",
      "metadata": {
        "id": "UE6SiZ-N4X03"
      },
      "source": [
        "Next we will set the average TVL over the past 30 days as a base for estimating TVL going forward."
      ]
    },
    {
      "cell_type": "code",
      "metadata": {
        "colab": {
          "base_uri": "https://localhost:8080/"
        },
        "id": "Ff0mzDtO2bs9",
        "outputId": "0e3a7743-7ad7-41f0-e6e7-ef77e89cb660"
      },
      "source": [
        "base = maker_tvl.iloc[-30:, :].mean()[0]\r\n",
        "print (base)"
      ],
      "execution_count": 31,
      "outputs": [
        {
          "output_type": "stream",
          "text": [
            "4871943607.761051\n"
          ],
          "name": "stdout"
        }
      ]
    },
    {
      "cell_type": "code",
      "metadata": {
        "id": "M30CYrLMgN00"
      },
      "source": [
        "#organizing dates (would've been easier in excel)\r\n",
        "start = pd.to_datetime(dt.datetime.today().date())\r\n",
        "import dateutil\r\n",
        "date_list = [start]\r\n",
        "for i in range(forecast_length - 1):\r\n",
        "    date_list.append(date_list[i] + dateutil.relativedelta.relativedelta(months=+1))"
      ],
      "execution_count": 32,
      "outputs": []
    },
    {
      "cell_type": "code",
      "metadata": {
        "id": "Grtzf-m0S_82"
      },
      "source": [
        "def valuation (base = base, forecast_length = forecast_length, geometric_growth_rate = geometric_growth_rate, \n",
        "               date_list = date_list, terminal_growth_monthly = terminal_growth_monthly, discount_rate = discount_rate,\n",
        "               monthly_discount = monthly_discount, stability_fee_monthly = stability_fee_monthly, \n",
        "               Total_MKR = Total_MKR, MKR_holders_revenue_share = MKR_holders_revenue_share, LTV = LTV):\n",
        "    \n",
        "    #setting last month in 2020 as the base for estimation\n",
        "    \n",
        "    base = base * LTV # to estimate amount of minted DAI\n",
        "    forecast_tvl = [base]\n",
        "    for i in range(forecast_length):\n",
        "        forecast_tvl.append(forecast_tvl[i] + ggr_2020_monthly * forecast_tvl[i]*np.random.uniform(low=-0.5, high=1))\n",
        "\n",
        "    forecast_tvl = forecast_tvl[1:]\n",
        "    forecast = pd.DataFrame(data=forecast_tvl, index=date_list, columns=['Maker TVL Forecast'])\n",
        "\n",
        "    forecast['Revenue'] = forecast['Maker TVL Forecast'] * stability_fee_monthly\n",
        "    forecast['Profit'] = forecast['Revenue'] * MKR_holders_revenue_share\n",
        "\n",
        "    forecast['Total Token #'] = Total_MKR\n",
        "    forecast['Profit per Token'] =  forecast['Profit']  / forecast['Total Token #']\n",
        "    forecast ['Periods'] = np.arange(1, 49)\n",
        "    forecast['Discount Factor'] = (1+monthly_discount)**forecast['Periods']\n",
        "    forecast ['Discounted Profit per Token'] = forecast['Profit per Token'] / forecast['Discount Factor']\n",
        "    \n",
        "    TV = forecast['Profit per Token'][-1] * (1+terminal_growth_monthly) / (monthly_discount - terminal_growth_monthly)\n",
        "    TV_discounted = TV / (1+discount_rate)**4\n",
        "    price_per_token = TV_discounted + forecast['Discounted Profit per Token'].sum()\n",
        "    \n",
        "    return price_per_token"
      ],
      "execution_count": 33,
      "outputs": []
    },
    {
      "cell_type": "markdown",
      "metadata": {
        "id": "cwTJc6COS_82"
      },
      "source": [
        "# Monte Carlo Analysis "
      ]
    },
    {
      "cell_type": "code",
      "metadata": {
        "id": "D1gfbmdvS_82"
      },
      "source": [
        "MKR_price = []\n",
        "\n",
        "for i in range(10000):\n",
        "    MKR_price.append (valuation())"
      ],
      "execution_count": 34,
      "outputs": []
    },
    {
      "cell_type": "code",
      "metadata": {
        "id": "FoSn7PGKS_82",
        "colab": {
          "base_uri": "https://localhost:8080/"
        },
        "outputId": "97b1bfda-2cb0-4ed3-d842-c462327b427d"
      },
      "source": [
        "np.average(MKR_price), np.median(MKR_price)"
      ],
      "execution_count": 35,
      "outputs": [
        {
          "output_type": "execute_result",
          "data": {
            "text/plain": [
              "(1843.744341477187, 1691.9043908419424)"
            ]
          },
          "metadata": {
            "tags": []
          },
          "execution_count": 35
        }
      ]
    },
    {
      "cell_type": "code",
      "metadata": {
        "colab": {
          "base_uri": "https://localhost:8080/"
        },
        "id": "U92Mn3gTALGZ",
        "outputId": "d82ea301-5500-4b72-dd63-91326a009fbd"
      },
      "source": [
        "np.max(MKR_price)"
      ],
      "execution_count": 36,
      "outputs": [
        {
          "output_type": "execute_result",
          "data": {
            "text/plain": [
              "9924.292219277982"
            ]
          },
          "metadata": {
            "tags": []
          },
          "execution_count": 36
        }
      ]
    },
    {
      "cell_type": "code",
      "metadata": {
        "id": "mV6uQwf9S_83",
        "colab": {
          "base_uri": "https://localhost:8080/",
          "height": 335
        },
        "outputId": "f0758919-aa22-48a4-cddf-9795ac9c62a8"
      },
      "source": [
        "plt.hist(MKR_price, bins=[250, 500, 750, 1000, 1250, 1500, 1750, 2000, 2250])"
      ],
      "execution_count": 37,
      "outputs": [
        {
          "output_type": "execute_result",
          "data": {
            "text/plain": [
              "(array([1.000e+00, 1.270e+02, 6.260e+02, 1.344e+03, 1.667e+03, 1.573e+03,\n",
              "        1.283e+03, 1.017e+03]),\n",
              " array([ 250,  500,  750, 1000, 1250, 1500, 1750, 2000, 2250]),\n",
              " <a list of 8 Patch objects>)"
            ]
          },
          "metadata": {
            "tags": []
          },
          "execution_count": 37
        },
        {
          "output_type": "display_data",
          "data": {
            "image/png": "[encoded data removed]",
            "text/plain": [
              "<Figure size 432x288 with 1 Axes>"
            ]
          },
          "metadata": {
            "tags": [],
            "needs_background": "light"
          }
        }
      ]
    },
    {
      "cell_type": "code",
      "metadata": {
        "id": "iQ2i-6UrzCnE"
      },
      "source": [
        ""
      ],
      "execution_count": null,
      "outputs": []
    }
  ]
}